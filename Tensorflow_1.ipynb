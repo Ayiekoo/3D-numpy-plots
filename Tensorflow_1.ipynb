{
  "nbformat": 4,
  "nbformat_minor": 0,
  "metadata": {
    "colab": {
      "provenance": [],
      "authorship_tag": "ABX9TyOCvQigrZzeg7w7hd6S32pC",
      "include_colab_link": true
    },
    "kernelspec": {
      "name": "python3",
      "display_name": "Python 3"
    },
    "language_info": {
      "name": "python"
    }
  },
  "cells": [
    {
      "cell_type": "markdown",
      "metadata": {
        "id": "view-in-github",
        "colab_type": "text"
      },
      "source": [
        "<a href=\"https://colab.research.google.com/github/Ayiekoo/3D-numpy-plots/blob/main/Tensorflow_1.ipynb\" target=\"_parent\"><img src=\"https://colab.research.google.com/assets/colab-badge.svg\" alt=\"Open In Colab\"/></a>"
      ]
    },
    {
      "cell_type": "code",
      "execution_count": null,
      "metadata": {
        "id": "DzlBhuJVFBmC"
      },
      "outputs": [],
      "source": []
    },
    {
      "cell_type": "code",
      "source": [
        "ximport os\n",
        "os.environ['TF_CPP_MIN_LOG_LEVEL'] = '2'\n",
        "import tensorflow as tf\n"
      ],
      "metadata": {
        "id": "yuIs77IDFSDX"
      },
      "execution_count": null,
      "outputs": []
    },
    {
      "cell_type": "markdown",
      "source": [],
      "metadata": {
        "id": "XDl3Ydy1O5a1"
      }
    },
    {
      "cell_type": "code",
      "source": [
        "# Initialization of Tensors\n",
        "x = tf.constant(4, shape=(1,1), dtype=tf.float32)\n",
        "print(x)"
      ],
      "metadata": {
        "colab": {
          "base_uri": "https://localhost:8080/"
        },
        "id": "-YkAR_SHF4tG",
        "outputId": "bcb3747a-386f-4e37-8822-8712a26c5636"
      },
      "execution_count": null,
      "outputs": [
        {
          "output_type": "stream",
          "name": "stdout",
          "text": [
            "tf.Tensor([[4.]], shape=(1, 1), dtype=float32)\n"
          ]
        }
      ]
    },
    {
      "cell_type": "code",
      "source": [
        "y = tf.constant([[1,2,3], [4,5,6]])\n",
        "print(y)\n",
        "# This code prints a 2 by 3 tensor.\n",
        "# Two rows, each containing 3 columns"
      ],
      "metadata": {
        "colab": {
          "base_uri": "https://localhost:8080/"
        },
        "id": "C9izsxuIGQkN",
        "outputId": "47e80d34-688e-48f1-815c-39431e55aaa8"
      },
      "execution_count": null,
      "outputs": [
        {
          "output_type": "stream",
          "name": "stdout",
          "text": [
            "tf.Tensor(\n",
            "[[1 2 3]\n",
            " [4 5 6]], shape=(2, 3), dtype=int32)\n"
          ]
        }
      ]
    },
    {
      "cell_type": "code",
      "source": [
        "# We can obtain a 3 by 3 matrix of values of 1\n",
        "d = tf.ones((3, 3))\n",
        "print(d)"
      ],
      "metadata": {
        "colab": {
          "base_uri": "https://localhost:8080/"
        },
        "id": "veo9PjQWGrWF",
        "outputId": "14ef1cf7-6e1c-4176-b472-fc0d129a6f19"
      },
      "execution_count": null,
      "outputs": [
        {
          "output_type": "stream",
          "name": "stdout",
          "text": [
            "tf.Tensor(\n",
            "[[1. 1. 1.]\n",
            " [1. 1. 1.]\n",
            " [1. 1. 1.]], shape=(3, 3), dtype=float32)\n"
          ]
        }
      ]
    },
    {
      "cell_type": "code",
      "source": [
        "l = tf.zeros((2, 3))\n",
        "print(l)"
      ],
      "metadata": {
        "colab": {
          "base_uri": "https://localhost:8080/"
        },
        "id": "Dd5zlYMDG9wJ",
        "outputId": "afd4f4c1-84ed-4ec7-8449-b11159eba849"
      },
      "execution_count": null,
      "outputs": [
        {
          "output_type": "stream",
          "name": "stdout",
          "text": [
            "tf.Tensor(\n",
            "[[0. 0. 0.]\n",
            " [0. 0. 0.]], shape=(2, 3), dtype=float32)\n"
          ]
        }
      ]
    },
    {
      "cell_type": "code",
      "source": [
        "f = tf.eye(3)\n",
        "print(f)\n",
        "\n",
        "# Prints 1 in the diagonal, and 0 everywhere else"
      ],
      "metadata": {
        "colab": {
          "base_uri": "https://localhost:8080/"
        },
        "id": "V00ibK6aHKVS",
        "outputId": "e09f1c6f-750e-4162-d345-03293c9ebd5b"
      },
      "execution_count": null,
      "outputs": [
        {
          "output_type": "stream",
          "name": "stdout",
          "text": [
            "tf.Tensor(\n",
            "[[1. 0. 0.]\n",
            " [0. 1. 0.]\n",
            " [0. 0. 1.]], shape=(3, 3), dtype=float32)\n"
          ]
        }
      ]
    },
    {
      "cell_type": "code",
      "source": [
        "t = tf.random.normal((3, 3), mean=0, stddev=1)\n",
        "print(t)\n"
      ],
      "metadata": {
        "colab": {
          "base_uri": "https://localhost:8080/"
        },
        "id": "x-uXqtwSHNLS",
        "outputId": "ce7ee825-803a-4857-e674-00d63d9b2122"
      },
      "execution_count": null,
      "outputs": [
        {
          "output_type": "stream",
          "name": "stdout",
          "text": [
            "tf.Tensor(\n",
            "[[-0.22767624 -0.10118385  0.93934506]\n",
            " [-0.47384208  1.5704818  -0.62961817]\n",
            " [-1.1830813  -0.43404275  0.4437856 ]], shape=(3, 3), dtype=float32)\n"
          ]
        }
      ]
    },
    {
      "cell_type": "code",
      "source": [
        "m = tf.random.uniform((1, 3), minval=0, maxval=1)\n",
        "print(m)"
      ],
      "metadata": {
        "colab": {
          "base_uri": "https://localhost:8080/"
        },
        "id": "qEr8O5nzHpBA",
        "outputId": "8ed480f9-5bfd-47df-f736-b0dc22874143"
      },
      "execution_count": null,
      "outputs": [
        {
          "output_type": "stream",
          "name": "stdout",
          "text": [
            "tf.Tensor([[0.24358404 0.12838936 0.10176563]], shape=(1, 3), dtype=float32)\n"
          ]
        }
      ]
    },
    {
      "cell_type": "code",
      "source": [
        "# Something similar to the python range function\n",
        "\n",
        "s = tf.range(start=1, limit=10, delta=2)\n",
        "print(s)\n",
        "\n",
        "s = tf.cast(s, dtype=tf.float64)"
      ],
      "metadata": {
        "colab": {
          "base_uri": "https://localhost:8080/"
        },
        "id": "eKe_JuarH4pO",
        "outputId": "f069d4ff-d801-490d-f540-2468bcb46c8c"
      },
      "execution_count": null,
      "outputs": [
        {
          "output_type": "stream",
          "name": "stdout",
          "text": [
            "tf.Tensor([1 3 5 7 9], shape=(5,), dtype=int32)\n"
          ]
        }
      ]
    },
    {
      "cell_type": "markdown",
      "source": [
        "# **Mathematical operations**"
      ],
      "metadata": {
        "id": "Kn47tFQnIb41"
      }
    },
    {
      "cell_type": "code",
      "source": [
        "# Addition\n",
        "b = tf.constant([1, 2, 3])\n",
        "a = tf.constant([7, 8, 9])\n",
        "\n",
        "c = tf.add(b, a)\n",
        "print(c)"
      ],
      "metadata": {
        "colab": {
          "base_uri": "https://localhost:8080/"
        },
        "id": "E02apehBIjdX",
        "outputId": "5a61b622-7f9d-4dfb-b74a-6e732c4e51bd"
      },
      "execution_count": null,
      "outputs": [
        {
          "output_type": "stream",
          "name": "stdout",
          "text": [
            "tf.Tensor([ 8 10 12], shape=(3,), dtype=int32)\n"
          ]
        }
      ]
    },
    {
      "cell_type": "code",
      "source": [
        "c = tf.multiply(b, a)\n",
        "print(c)"
      ],
      "metadata": {
        "colab": {
          "base_uri": "https://localhost:8080/"
        },
        "id": "Aqj37Y4OMWsm",
        "outputId": "03ae2b90-bfbc-4a24-c007-93cb66f9c6bf"
      },
      "execution_count": null,
      "outputs": [
        {
          "output_type": "stream",
          "name": "stdout",
          "text": [
            "tf.Tensor([ 7 16 27], shape=(3,), dtype=int32)\n"
          ]
        }
      ]
    },
    {
      "cell_type": "code",
      "source": [
        "c = tf.divide(b, a)\n",
        "print(c)"
      ],
      "metadata": {
        "colab": {
          "base_uri": "https://localhost:8080/"
        },
        "id": "oFgBsY5gMkEy",
        "outputId": "7e8fc6db-caf9-414a-81af-d7fa320b2991"
      },
      "execution_count": null,
      "outputs": [
        {
          "output_type": "stream",
          "name": "stdout",
          "text": [
            "tf.Tensor([0.14285714 0.25       0.33333333], shape=(3,), dtype=float64)\n"
          ]
        }
      ]
    },
    {
      "cell_type": "code",
      "source": [
        "c = tf.tensordot(b, a, axes=1)\n",
        "print(c)"
      ],
      "metadata": {
        "colab": {
          "base_uri": "https://localhost:8080/"
        },
        "id": "DmSPX70LNFbb",
        "outputId": "3ea79105-998e-4e49-9187-527d677e3575"
      },
      "execution_count": null,
      "outputs": [
        {
          "output_type": "stream",
          "name": "stdout",
          "text": [
            "tf.Tensor(50, shape=(), dtype=int32)\n"
          ]
        }
      ]
    },
    {
      "cell_type": "code",
      "source": [
        "c = tf.reduce_sum(b*a, axis=0)\n",
        "print(c)"
      ],
      "metadata": {
        "colab": {
          "base_uri": "https://localhost:8080/"
        },
        "id": "511gXtVgNa-k",
        "outputId": "ba1fc959-cdd9-447b-ae1d-08e4aa18f1fd"
      },
      "execution_count": null,
      "outputs": [
        {
          "output_type": "stream",
          "name": "stdout",
          "text": [
            "tf.Tensor(50, shape=(), dtype=int32)\n"
          ]
        }
      ]
    },
    {
      "cell_type": "code",
      "source": [
        "c = b ** 5\n",
        "print(c)"
      ],
      "metadata": {
        "colab": {
          "base_uri": "https://localhost:8080/"
        },
        "id": "ztFH1mc6Nd9T",
        "outputId": "75f95a4e-506d-4862-e27a-2271dd827f63"
      },
      "execution_count": null,
      "outputs": [
        {
          "output_type": "stream",
          "name": "stdout",
          "text": [
            "tf.Tensor([  1  32 243], shape=(3,), dtype=int32)\n"
          ]
        }
      ]
    },
    {
      "cell_type": "markdown",
      "source": [
        "# **Matrix** **multiplication**\n",
        "\n"
      ],
      "metadata": {
        "id": "b42rD8I_NscU"
      }
    },
    {
      "cell_type": "code",
      "source": [
        "x = tf.random.normal((2, 3))\n",
        "y = tf.random.normal((3, 4))\n",
        "z = tf.matmul(x, y)\n",
        "\n",
        "print(z)"
      ],
      "metadata": {
        "colab": {
          "base_uri": "https://localhost:8080/"
        },
        "id": "kEr8SaqIN33U",
        "outputId": "4f864c0a-4f76-4d23-bf3e-f9b77cd9393a"
      },
      "execution_count": null,
      "outputs": [
        {
          "output_type": "stream",
          "name": "stdout",
          "text": [
            "tf.Tensor(\n",
            "[[ 0.43675256 -2.4643993  -1.2576458  -0.22530426]\n",
            " [ 0.2098796   0.9244318  -1.2070849  -2.0220487 ]], shape=(2, 4), dtype=float32)\n"
          ]
        }
      ]
    },
    {
      "cell_type": "markdown",
      "source": [
        "# **Indexing** **a** **tensor**"
      ],
      "metadata": {
        "id": "vZkOFeARO7b1"
      }
    },
    {
      "cell_type": "code",
      "source": [
        "x = tf.constant([0, 1, 1, 2, 3, 1, 2, 3])\n",
        "print(x[:])\n",
        "print(x[1:]) # Excludes the first index"
      ],
      "metadata": {
        "colab": {
          "base_uri": "https://localhost:8080/"
        },
        "id": "sJkhoup-PC1m",
        "outputId": "9be29ed7-b841-4ed9-b56c-9b45ca72fed3"
      },
      "execution_count": null,
      "outputs": [
        {
          "output_type": "stream",
          "name": "stdout",
          "text": [
            "tf.Tensor([0 1 1 2 3 1 2 3], shape=(8,), dtype=int32)\n",
            "tf.Tensor([1 1 2 3 1 2 3], shape=(7,), dtype=int32)\n"
          ]
        }
      ]
    },
    {
      "cell_type": "code",
      "source": [
        "print(x[1: 3])"
      ],
      "metadata": {
        "colab": {
          "base_uri": "https://localhost:8080/"
        },
        "id": "0CDRe1fKPXsC",
        "outputId": "94f7eb5c-e62a-40c6-9012-26abb18c3591"
      },
      "execution_count": null,
      "outputs": [
        {
          "output_type": "stream",
          "name": "stdout",
          "text": [
            "tf.Tensor([1 1], shape=(2,), dtype=int32)\n"
          ]
        }
      ]
    },
    {
      "cell_type": "code",
      "source": [
        "print(x[::2]) # Skips values after one value in the list"
      ],
      "metadata": {
        "colab": {
          "base_uri": "https://localhost:8080/"
        },
        "id": "MVqlOZoOPpNQ",
        "outputId": "3c1fdb83-47e5-4a01-f46c-3a0689abccd7"
      },
      "execution_count": null,
      "outputs": [
        {
          "output_type": "stream",
          "name": "stdout",
          "text": [
            "tf.Tensor([0 1 3 2], shape=(4,), dtype=int32)\n"
          ]
        }
      ]
    },
    {
      "cell_type": "code",
      "source": [
        "# We can print in reverse\n",
        "print(x[::-1])"
      ],
      "metadata": {
        "colab": {
          "base_uri": "https://localhost:8080/"
        },
        "id": "O1AzhCofP5UK",
        "outputId": "87fc6428-b43f-4a08-bc3c-11c5d0670cd8"
      },
      "execution_count": null,
      "outputs": [
        {
          "output_type": "stream",
          "name": "stdout",
          "text": [
            "tf.Tensor([3 2 1 3 2 1 1 0], shape=(8,), dtype=int32)\n"
          ]
        }
      ]
    },
    {
      "cell_type": "code",
      "source": [],
      "metadata": {
        "id": "kSDeX692QIMT"
      },
      "execution_count": null,
      "outputs": []
    },
    {
      "cell_type": "markdown",
      "source": [
        "# **Reshaping** **a** **matrix**"
      ],
      "metadata": {
        "id": "atfvS-ExEHAM"
      }
    },
    {
      "cell_type": "code",
      "source": [
        "X =tf.range(9)\n",
        "print(X)"
      ],
      "metadata": {
        "colab": {
          "base_uri": "https://localhost:8080/"
        },
        "id": "9yB1OVf9EMpw",
        "outputId": "4b992318-f1ab-47c3-8ba5-7b99e403094a"
      },
      "execution_count": null,
      "outputs": [
        {
          "output_type": "stream",
          "name": "stdout",
          "text": [
            "tf.Tensor([0 1 2 3 4 5 6 7 8], shape=(9,), dtype=int32)\n"
          ]
        }
      ]
    },
    {
      "cell_type": "code",
      "source": [
        "X =tf.reshape(X, (3, 3))\n",
        "print(X)\n",
        "\n",
        "# Reshapes the matrix to a 3 by 3"
      ],
      "metadata": {
        "colab": {
          "base_uri": "https://localhost:8080/"
        },
        "id": "9SP2y4g3ENMK",
        "outputId": "8fe7dcc9-af3a-4dac-b949-5b527b806fdc"
      },
      "execution_count": null,
      "outputs": [
        {
          "output_type": "stream",
          "name": "stdout",
          "text": [
            "tf.Tensor(\n",
            "[[0 1 2]\n",
            " [3 4 5]\n",
            " [6 7 8]], shape=(3, 3), dtype=int32)\n"
          ]
        }
      ]
    },
    {
      "cell_type": "code",
      "source": [
        "X = tf.transpose(X, perm=[1, 0])\n",
        "print(X)\n",
        "\n",
        "# Flips and interchanges the columns and rows of the matrix."
      ],
      "metadata": {
        "colab": {
          "base_uri": "https://localhost:8080/"
        },
        "id": "Kh_y_9jxGZ1l",
        "outputId": "add3790c-2979-4e1a-d580-e319c490e5b4"
      },
      "execution_count": null,
      "outputs": [
        {
          "output_type": "stream",
          "name": "stdout",
          "text": [
            "tf.Tensor(\n",
            "[[0 3 6]\n",
            " [1 4 7]\n",
            " [2 5 8]], shape=(3, 3), dtype=int32)\n"
          ]
        }
      ]
    }
  ]
}