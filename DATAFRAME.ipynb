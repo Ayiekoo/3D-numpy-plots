{
  "nbformat": 4,
  "nbformat_minor": 0,
  "metadata": {
    "colab": {
      "provenance": [],
      "authorship_tag": "ABX9TyN0zsMnTV+fJR9Ea0Zh9D6y",
      "include_colab_link": true
    },
    "kernelspec": {
      "name": "python3",
      "display_name": "Python 3"
    },
    "language_info": {
      "name": "python"
    }
  },
  "cells": [
    {
      "cell_type": "markdown",
      "metadata": {
        "id": "view-in-github",
        "colab_type": "text"
      },
      "source": [
        "<a href=\"https://colab.research.google.com/github/Ayiekoo/3D-numpy-plots/blob/main/DATAFRAME.ipynb\" target=\"_parent\"><img src=\"https://colab.research.google.com/assets/colab-badge.svg\" alt=\"Open In Colab\"/></a>"
      ]
    },
    {
      "cell_type": "code",
      "execution_count": 1,
      "metadata": {
        "id": "3xAkST42zLRe"
      },
      "outputs": [],
      "source": [
        "import sqlite3\n",
        "\n",
        "# Connect to the SQLite database\n",
        "sql_connection = sqlite3.connect('database.db')\n",
        "cursor = sql_connection.cursor()\n",
        "\n",
        "# Create a new table\n",
        "create_table_query = '''\n",
        "CREATE TABLE IF NOT EXISTS employees (\n",
        "    employee_id INTEGER PRIMARY KEY,\n",
        "    first_name TEXT NOT NULL,\n",
        "    last_name TEXT NOT NULL,\n",
        "    department TEXT NOT NULL,\n",
        "    salary REAL NOT NULL,\n",
        "    hire_date TEXT NOT NULL\n",
        ")\n",
        "'''\n",
        "cursor.execute(create_table_query)\n",
        "sql_connection.commit()\n"
      ]
    },
    {
      "cell_type": "code",
      "source": [
        "# Insert data into the table\n",
        "insert_data_query = '''\n",
        "INSERT INTO employees (first_name, last_name, department, salary, hire_date)\n",
        "VALUES\n",
        "    ('John', 'Doe', 'HR', 50000, '2022-01-15'),\n",
        "    ('Jane', 'Smith', 'Engineering', 75000, '2021-08-30'),\n",
        "    ('Sam', 'Brown', 'Marketing', 60000, '2019-04-22'),\n",
        "    ('Emily', 'Davis', 'Finance', 65000, '2020-11-02'),\n",
        "    ('Michael', 'Wilson', 'Engineering', 80000, '2023-06-10')\n",
        "'''\n",
        "cursor.execute(insert_data_query)\n",
        "sql_connection.commit()\n"
      ],
      "metadata": {
        "id": "lWUTNYGuzTvM"
      },
      "execution_count": 2,
      "outputs": []
    },
    {
      "cell_type": "code",
      "source": [
        "import pandas as pd\n",
        "\n",
        "# Query to retrieve all entries of the table\n",
        "query_all_entries = 'SELECT * FROM employees'\n",
        "df_all_entries = pd.read_sql(query_all_entries, sql_connection)\n",
        "print(\"All entries:\")\n",
        "print(df_all_entries)\n"
      ],
      "metadata": {
        "colab": {
          "base_uri": "https://localhost:8080/"
        },
        "id": "u7OtMYNBzYwf",
        "outputId": "55b921a1-efde-4fec-d249-ec6024a5598b"
      },
      "execution_count": 3,
      "outputs": [
        {
          "output_type": "stream",
          "name": "stdout",
          "text": [
            "All entries:\n",
            "   employee_id first_name last_name   department   salary   hire_date\n",
            "0            1       John       Doe           HR  50000.0  2022-01-15\n",
            "1            2       Jane     Smith  Engineering  75000.0  2021-08-30\n",
            "2            3        Sam     Brown    Marketing  60000.0  2019-04-22\n",
            "3            4      Emily     Davis      Finance  65000.0  2020-11-02\n",
            "4            5    Michael    Wilson  Engineering  80000.0  2023-06-10\n"
          ]
        }
      ]
    },
    {
      "cell_type": "code",
      "source": [
        "# Query to retrieve total number of employees in the table\n",
        "query_count_entries = 'SELECT COUNT(*) FROM employees'\n",
        "df_count_entries = pd.read_sql(query_count_entries, sql_connection)\n",
        "print(\"Total number of employees:\")\n",
        "print(df_count_entries)\n"
      ],
      "metadata": {
        "colab": {
          "base_uri": "https://localhost:8080/"
        },
        "id": "ycAMmZcPzfpX",
        "outputId": "9618f909-4006-46de-a3d8-470a97f2c1e6"
      },
      "execution_count": 4,
      "outputs": [
        {
          "output_type": "stream",
          "name": "stdout",
          "text": [
            "Total number of employees:\n",
            "   COUNT(*)\n",
            "0         5\n"
          ]
        }
      ]
    },
    {
      "cell_type": "code",
      "source": [
        "# Query to retrieve all entries of employees in the 'Engineering' department\n",
        "query_specific_department = \"SELECT * FROM employees WHERE department = 'Engineering'\"\n",
        "df_specific_department = pd.read_sql(query_specific_department, sql_connection)\n",
        "print(\"Employees in Engineering department:\")\n",
        "print(df_specific_department)\n"
      ],
      "metadata": {
        "colab": {
          "base_uri": "https://localhost:8080/"
        },
        "id": "iq87A2xqzuOf",
        "outputId": "a241ac90-d034-48c8-a053-3b9db1450743"
      },
      "execution_count": 6,
      "outputs": [
        {
          "output_type": "stream",
          "name": "stdout",
          "text": [
            "Employees in Engineering department:\n",
            "   employee_id first_name last_name   department   salary   hire_date\n",
            "0            2       Jane     Smith  Engineering  75000.0  2021-08-30\n",
            "1            5    Michael    Wilson  Engineering  80000.0  2023-06-10\n"
          ]
        }
      ]
    },
    {
      "cell_type": "code",
      "source": [
        "# Query to retrieve all employees with a salary greater than 60000\n",
        "query_high_salary = 'SELECT * FROM employees WHERE salary > 60000'\n",
        "df_high_salary = pd.read_sql(query_high_salary, sql_connection)\n",
        "print(\"Employees with salary greater than 60000:\")\n",
        "print(df_high_salary)\n"
      ],
      "metadata": {
        "colab": {
          "base_uri": "https://localhost:8080/"
        },
        "id": "02ZJTxrWzz-r",
        "outputId": "7d485214-95f4-4700-ad54-7a9b01155700"
      },
      "execution_count": 7,
      "outputs": [
        {
          "output_type": "stream",
          "name": "stdout",
          "text": [
            "Employees with salary greater than 60000:\n",
            "   employee_id first_name last_name   department   salary   hire_date\n",
            "0            2       Jane     Smith  Engineering  75000.0  2021-08-30\n",
            "1            4      Emily     Davis      Finance  65000.0  2020-11-02\n",
            "2            5    Michael    Wilson  Engineering  80000.0  2023-06-10\n"
          ]
        }
      ]
    },
    {
      "cell_type": "code",
      "source": [
        "# Query to retrieve the average salary of employees in the 'Engineering' department\n",
        "query_avg_salary = \"SELECT department, AVG(salary) as avg_salary FROM employees WHERE department = 'Engineering'\"\n",
        "df_avg_salary = pd.read_sql(query_avg_salary, sql_connection)\n",
        "print(\"Average salary in Engineering department:\")\n",
        "print(df_avg_salary)\n"
      ],
      "metadata": {
        "colab": {
          "base_uri": "https://localhost:8080/"
        },
        "id": "StIld4YAz5Hz",
        "outputId": "e8bfe77d-6bf3-4206-ffc6-339ee8949406"
      },
      "execution_count": 8,
      "outputs": [
        {
          "output_type": "stream",
          "name": "stdout",
          "text": [
            "Average salary in Engineering department:\n",
            "    department  avg_salary\n",
            "0  Engineering     77500.0\n"
          ]
        }
      ]
    },
    {
      "cell_type": "code",
      "source": [
        "# Query to retrieve employees hired after '2020-01-01'\n",
        "query_hire_date = \"SELECT * FROM employees WHERE hire_date > '2020-01-01'\"\n",
        "df_hire_date = pd.read_sql(query_hire_date, sql_connection)\n",
        "print(\"Employees hired after 2020-01-01:\")\n",
        "print(df_hire_date)\n",
        "\n",
        "# Close the connection\n",
        "sql_connection.close()\n"
      ],
      "metadata": {
        "colab": {
          "base_uri": "https://localhost:8080/"
        },
        "id": "CdQZ6dlPz9K0",
        "outputId": "1a84ecfe-7de2-41dc-ba88-bd241d2ddf35"
      },
      "execution_count": 9,
      "outputs": [
        {
          "output_type": "stream",
          "name": "stdout",
          "text": [
            "Employees hired after 2020-01-01:\n",
            "   employee_id first_name last_name   department   salary   hire_date\n",
            "0            1       John       Doe           HR  50000.0  2022-01-15\n",
            "1            2       Jane     Smith  Engineering  75000.0  2021-08-30\n",
            "2            4      Emily     Davis      Finance  65000.0  2020-11-02\n",
            "3            5    Michael    Wilson  Engineering  80000.0  2023-06-10\n"
          ]
        }
      ]
    }
  ]
}